{
  "cells": [
    {
      "cell_type": "markdown",
      "metadata": {
        "id": "view-in-github",
        "colab_type": "text"
      },
      "source": [
        "<a href=\"https://colab.research.google.com/github/chengjhih-lee0521/Python-Workshop-Code/blob/Python-Basic(II)/%E4%BD%9C%E6%A5%AD_04.ipynb\" target=\"_parent\"><img src=\"https://colab.research.google.com/assets/colab-badge.svg\" alt=\"Open In Colab\"/></a>"
      ]
    },
    {
      "cell_type": "markdown",
      "source": [
        "### Task #04 作業 01【實作題】字串的位置分佈"
      ],
      "metadata": {
        "id": "bhqcL7KGLpPa"
      },
      "id": "bhqcL7KGLpPa"
    },
    {
      "cell_type": "code",
      "execution_count": null,
      "id": "2a0733a5",
      "metadata": {
        "id": "2a0733a5",
        "outputId": "0b8efb9a-2a5b-4446-e26c-63561a73f1aa"
      },
      "outputs": [
        {
          "name": "stdout",
          "output_type": "stream",
          "text": [
            "{'H': [1], 'e': [2, 4, 8, 27, 32], 'r': [3, 7, 28, 37], ' ': [5, 9, 19, 23, 33], 'a': [6, 20, 30, 36], 'U': [10], 'P': [11, 12], 'E': [13, 18], 'R': [14], 'C': [15], 'A': [16], 'S': [17], 'n': [21], 'd': [22], 'l': [24], 'o': [25], 'w': [26], 'c': [29, 34], 's': [31, 38], 'h': [35], '.': [39]}\n"
          ]
        }
      ],
      "source": [
        "# My method (version 1: go through every string and update)\n",
        "s = 'Here are UPPERCASE and lowercase chars.'\n",
        "\n",
        "def character_location(s: str) -> dict:\n",
        "    \"\"\" This is the function that localizes each character in the string\n",
        "    \n",
        "    s: input string\n",
        "    \"\"\"\n",
        "    char_dict = dict()\n",
        "    for i, string in enumerate(s, 1):a\n",
        "        \n",
        "        if string not in char_dict:\n",
        "            char_dict[string] = [i]\n",
        "        else:\n",
        "            # Note that list (values) don't have to be overrided, e.g: char_dict[string] = char_dict[string].append(i)\n",
        "            char_dict[string].append(i)\n",
        "            \n",
        "    return char_dict\n",
        "\n",
        "d = character_location(s = s)\n",
        "print(d) "
      ]
    },
    {
      "cell_type": "code",
      "execution_count": null,
      "id": "f672a2b7",
      "metadata": {
        "id": "f672a2b7",
        "outputId": "c1182360-e9da-4fe9-8771-33a67b2874fb"
      },
      "outputs": [
        {
          "name": "stdout",
          "output_type": "stream",
          "text": [
            "{'s': [31, 38], 'R': [14], '.': [39], 'n': [21], 'e': [2, 4, 8, 27, 32], 'h': [35], 'a': [6, 20, 30, 36], ' ': [5, 9, 19, 23, 33], 'S': [17], 'c': [29, 34], 'o': [25], 'w': [26], 'l': [24], 'P': [11, 12], 'd': [22], 'C': [15], 'r': [3, 7, 28, 37], 'E': [13, 18], 'U': [10], 'H': [1], 'A': [16]}\n"
          ]
        }
      ],
      "source": [
        "# My method (version 2: collect index first and store into dictionary)\n",
        "s = 'Here are UPPERCASE and lowercase chars.'\n",
        "\n",
        "def character_location(s: str) -> dict:\n",
        "    \"\"\" This is the function that localizes each character in the string\n",
        "    \n",
        "    s: input string\n",
        "    \"\"\"\n",
        "    char_dict = dict()\n",
        "    for char in set(s):\n",
        "        char_lst = [i for i, w in enumerate(list(s), 1) if w == char]\n",
        "        char_dict[char] = char_lst\n",
        "        \n",
        "    return char_dict\n",
        "    \n",
        "d = character_location(s = s)\n",
        "print(d) "
      ]
    },
    {
      "cell_type": "code",
      "execution_count": null,
      "id": "8d3758ef",
      "metadata": {
        "id": "8d3758ef"
      },
      "outputs": [],
      "source": []
    },
    {
      "cell_type": "markdown",
      "id": "aa006d12",
      "metadata": {
        "id": "aa006d12"
      },
      "source": [
        "### Task #04 作業 02【實作題】手刻 map 函式"
      ]
    },
    {
      "cell_type": "code",
      "execution_count": null,
      "id": "86a02d50",
      "metadata": {
        "id": "86a02d50",
        "outputId": "fb82e8bb-e468-4b18-be40-038b4047b81a"
      },
      "outputs": [
        {
          "name": "stdout",
          "output_type": "stream",
          "text": [
            "[2, 3, 4, 5, 6, 7]\n",
            "[True, True, False, True, False, True]\n"
          ]
        }
      ],
      "source": [
        "def add1(n):\n",
        "    return n+1\n",
        "\n",
        "def isPrime(n):\n",
        "    PrimeFlag = True\n",
        "    \n",
        "    for i in range(2, n):\n",
        "        if n % i == 0:\n",
        "            PrimeFlag = False\n",
        "            break\n",
        "    return PrimeFlag\n",
        "\n",
        "def f(L: list, F) -> list:\n",
        "    \"\"\"f is the handcrafted map function\n",
        "    \n",
        "    L: Input list\n",
        "    F: Applied function\n",
        "    \"\"\"\n",
        "    return [F(i) for i in L]\n",
        "\n",
        "L = [1,2,3,4,5,6]\n",
        "F = add1\n",
        "print(f(L, F)) # [2,3,4,5,6,7]\n",
        "\n",
        "L = [2,3,4,5,6,7] \n",
        "F = isPrime\n",
        "print(f(L, F)) # [True,True,False,True,False,True]"
      ]
    },
    {
      "cell_type": "code",
      "execution_count": null,
      "id": "efde280f",
      "metadata": {
        "id": "efde280f"
      },
      "outputs": [],
      "source": []
    }
  ],
  "metadata": {
    "kernelspec": {
      "display_name": "Python 3 (ipykernel)",
      "language": "python",
      "name": "python3"
    },
    "language_info": {
      "codemirror_mode": {
        "name": "ipython",
        "version": 3
      },
      "file_extension": ".py",
      "mimetype": "text/x-python",
      "name": "python",
      "nbconvert_exporter": "python",
      "pygments_lexer": "ipython3",
      "version": "3.8.0"
    },
    "toc": {
      "base_numbering": 1,
      "nav_menu": {},
      "number_sections": true,
      "sideBar": true,
      "skip_h1_title": false,
      "title_cell": "Table of Contents",
      "title_sidebar": "Contents",
      "toc_cell": false,
      "toc_position": {},
      "toc_section_display": true,
      "toc_window_display": false
    },
    "colab": {
      "provenance": [],
      "include_colab_link": true
    }
  },
  "nbformat": 4,
  "nbformat_minor": 5
}