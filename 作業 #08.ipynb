{
 "cells": [
  {
   "cell_type": "markdown",
   "id": "3072af15",
   "metadata": {},
   "source": [
    "### Task #08 作業 01【實作題】階乘總和\n",
    "Calculate the sum of numerous factorial numbers."
   ]
  },
  {
   "cell_type": "code",
   "execution_count": 6,
   "id": "8e0fc1b8",
   "metadata": {},
   "outputs": [
    {
     "name": "stdout",
     "output_type": "stream",
     "text": [
      "4\n",
      "33\n"
     ]
    }
   ],
   "source": [
    "# 較差作法 (兩個 for-loop)\n",
    "x = input() # 4\n",
    "\n",
    "f = 0\n",
    "for i in range(1, int(x)+1):\n",
    "    \n",
    "    prod = 1    \n",
    "    for j in range(1, i+1):\n",
    "        prod *= j\n",
    "    \n",
    "    f += prod\n",
    "print(f)"
   ]
  },
  {
   "cell_type": "code",
   "execution_count": 8,
   "id": "b73d096f",
   "metadata": {},
   "outputs": [
    {
     "name": "stdout",
     "output_type": "stream",
     "text": [
      "4\n",
      "33\n"
     ]
    }
   ],
   "source": [
    "# 較好作法 (一個 for-loop)\n",
    "x = input() # 4\n",
    "ttl=1\n",
    "f=0\n",
    "\n",
    "for i in range(1,int(x)+1):\n",
    "    ttl *= i\n",
    "    f += ttl\n",
    "\n",
    "print(f) # 33"
   ]
  },
  {
   "cell_type": "code",
   "execution_count": null,
   "id": "c6d09864",
   "metadata": {},
   "outputs": [],
   "source": []
  },
  {
   "cell_type": "markdown",
   "id": "f27e8bc6",
   "metadata": {},
   "source": [
    "### Task #08 作業 02【實作題】字串計數\n",
    "Calculate the number of letters of a string."
   ]
  },
  {
   "cell_type": "code",
   "execution_count": 5,
   "id": "ec1e0a30",
   "metadata": {},
   "outputs": [
    {
     "name": "stdout",
     "output_type": "stream",
     "text": [
      "Hello World\n",
      "{'H': 1, 'e': 1, 'l': 3, 'o': 2, ' ': 1, 'W': 1, 'r': 1, 'd': 1}\n"
     ]
    }
   ],
   "source": [
    "# Method 1\n",
    "x = input() # Hello World\n",
    " \n",
    "f = dict()\n",
    "for character in x:\n",
    "    f[character] = f.get(character, 0) + 1\n",
    "\n",
    "print(f) # {‘H’: 1, ‘e’: 1, ‘l’: 3, ‘o’: 2, ‘ ’:1, ‘W’: 1, ‘r’: 1, ‘d’: 1}"
   ]
  },
  {
   "cell_type": "code",
   "execution_count": 34,
   "id": "2cecb7f9",
   "metadata": {},
   "outputs": [
    {
     "name": "stdout",
     "output_type": "stream",
     "text": [
      "Hello World\n",
      "{'l': 3, 'W': 1, 'o': 2, 'e': 1, ' ': 1, 'd': 1, 'r': 1, 'H': 1}\n"
     ]
    }
   ],
   "source": [
    "# Method 2\n",
    "# Lose original order of string (But it's ok)\n",
    "x = input() # Hello World\n",
    "f = {character: x.count(character) for character in set(x)}\n",
    "print(f)"
   ]
  },
  {
   "cell_type": "code",
   "execution_count": 36,
   "id": "02be4d72",
   "metadata": {},
   "outputs": [
    {
     "name": "stdout",
     "output_type": "stream",
     "text": [
      "Hello World\n",
      "['H', 'e', 'l', 'o', ' ', 'W', 'r', 'd']\n",
      "{'H': 0, 'e': 1, 'l': 2, 'o': 3, ' ': 4, 'W': 5, 'r': 6, 'd': 7}\n",
      "{'l': 3, 'W': 1, 'o': 2, 'e': 1, ' ': 1, 'd': 1, 'r': 1, 'H': 1}\n",
      "{'H': 1, 'e': 1, 'l': 3, 'o': 2, ' ': 1, 'W': 1, 'r': 1, 'd': 1}\n"
     ]
    }
   ],
   "source": [
    "# Method 3\n",
    "x = input() # Hello World\n",
    "x_lst = list(x)\n",
    "unq_s = []\n",
    "\n",
    "# Step 1: Create unique list\n",
    "for s in x_lst:\n",
    "    if s not in unq_s:\n",
    "        unq_s.append(s)\n",
    "print(unq_s)\n",
    "\n",
    "# Step 2: Create a dictionary with string order\n",
    "unq_s_dict = {unq_s[i]: i for i in range(len(unq_s))}\n",
    "print(unq_s_dict)\n",
    "\n",
    "# Step 3: Create the dictionary with occurence\n",
    "f = {character: x.count(character) for character in set(x)}\n",
    "print(f)\n",
    "\n",
    "# Step 4: Update the string-order dictionary with occurence dictionary\n",
    "unq_s_dict.update(f)\n",
    "print(unq_s_dict)"
   ]
  },
  {
   "cell_type": "code",
   "execution_count": null,
   "id": "305c6724",
   "metadata": {},
   "outputs": [],
   "source": []
  }
 ],
 "metadata": {
  "kernelspec": {
   "display_name": "Python 3 (ipykernel)",
   "language": "python",
   "name": "python3"
  },
  "language_info": {
   "codemirror_mode": {
    "name": "ipython",
    "version": 3
   },
   "file_extension": ".py",
   "mimetype": "text/x-python",
   "name": "python",
   "nbconvert_exporter": "python",
   "pygments_lexer": "ipython3",
   "version": "3.8.0"
  },
  "toc": {
   "base_numbering": 1,
   "nav_menu": {},
   "number_sections": true,
   "sideBar": true,
   "skip_h1_title": false,
   "title_cell": "Table of Contents",
   "title_sidebar": "Contents",
   "toc_cell": false,
   "toc_position": {},
   "toc_section_display": true,
   "toc_window_display": false
  }
 },
 "nbformat": 4,
 "nbformat_minor": 5
}
