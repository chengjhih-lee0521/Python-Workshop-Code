{
  "cells": [
    {
      "cell_type": "markdown",
      "metadata": {
        "id": "view-in-github",
        "colab_type": "text"
      },
      "source": [
        "<a href=\"https://colab.research.google.com/github/chengjhih-lee0521/Python-Workshop-Code/blob/Python-Basic(II)/%E4%BD%9C%E6%A5%AD_02.ipynb\" target=\"_parent\"><img src=\"https://colab.research.google.com/assets/colab-badge.svg\" alt=\"Open In Colab\"/></a>"
      ]
    },
    {
      "cell_type": "markdown",
      "id": "649d958f",
      "metadata": {
        "id": "649d958f"
      },
      "source": [
        "#### Task #02 作業 01【實作題】複雜的字串取代"
      ]
    },
    {
      "cell_type": "code",
      "execution_count": null,
      "id": "ba237a30",
      "metadata": {
        "id": "ba237a30",
        "outputId": "bf98d27e-a137-4b24-b8f6-86b2a1487fc1"
      },
      "outputs": [
        {
          "name": "stdout",
          "output_type": "stream",
          "text": [
            "This company is not poor at all. \n",
            "'not...at all' substring: not poor at all\n",
            "This company is good. \n"
          ]
        }
      ],
      "source": [
        "# My method 1 (pure string) (不好)\n",
        "s = input() # This company is not poor at all. \n",
        "\n",
        "def replace_string(string: str) -> str:\n",
        "    \"\"\"Replace \"not...at all\" as \"good\".\n",
        "    \n",
        "    string: Any string contains \"not...at all\".\n",
        "    \"\"\"\n",
        "    s_list = list(string)\n",
        "    word_loc = []\n",
        "\n",
        "    for w in ['not', 'all']:\n",
        "        i = 0\n",
        "        while not string.startswith(w, i):\n",
        "            i += 1\n",
        "        word_loc.append(i)  \n",
        "    \n",
        "    substring = ''.join(s_list[word_loc[0]:(word_loc[1]+len('all'))])\n",
        "    #print(f\"'not...at all' substring: {substring}\")\n",
        "    return string.replace(substring, 'good')\n",
        "    \n",
        "    # -or-\n",
        "    # s_list[word_loc[0]:(word_loc[1]+len('all'))] = list('good')\n",
        "    #return ''.join(s_list)\n",
        "\n",
        "d = replace_string(s)\n",
        "print(d) # This company is good."
      ]
    },
    {
      "cell_type": "code",
      "execution_count": null,
      "id": "cff380b7",
      "metadata": {
        "id": "cff380b7",
        "outputId": "addf8940-08da-4df4-a798-a3ec92ccca8c"
      },
      "outputs": [
        {
          "name": "stdout",
          "output_type": "stream",
          "text": [
            "I'm not at all happy about it.\n",
            "I'm good happy about it.\n"
          ]
        }
      ],
      "source": [
        "# My method 2 (string list) (不好)\n",
        "s = input() # This company is not poor at all. \n",
        "\n",
        "def replace_string(string: str) -> str:\n",
        "    \"\"\"Replace \"not...at all\" with \"good\".\n",
        "    \n",
        "    string: Any string contains \"not...at all\".\n",
        "    \"\"\"\n",
        "    s_split = string.split()\n",
        "    \n",
        "    not_index = s_split.index(\"not\")\n",
        "    \n",
        "    all_ = list(filter(lambda x: x in s.split(), [\"all\", \"all.\"]))[0]\n",
        "    all_index = s_split.index(all_)\n",
        "    all_dict = {\"all\": \"good\", \"all.\": \"good.\"}\n",
        "    \n",
        "    s_split[not_index:all_index+1] = [all_dict.get(all_)]\n",
        "    return \" \".join(s_split)\n",
        "            \n",
        "d = replace_string(s)\n",
        "print(d) # This company is good."
      ]
    },
    {
      "cell_type": "code",
      "execution_count": null,
      "id": "1630f256",
      "metadata": {
        "id": "1630f256",
        "outputId": "075747d5-ba0c-42b7-cf3f-3ab98b027234"
      },
      "outputs": [
        {
          "name": "stdout",
          "output_type": "stream",
          "text": [
            "The company is not poor at all. => The company is good.\n",
            "I'm not at all happy about it. => I'm good happy about it.\n"
          ]
        }
      ],
      "source": [
        "# Review & revised\n",
        "def replace_string_revise1(string: str) -> str:\n",
        "    \"\"\" This is the function that replaces \"not...at all\" with \"good\".\n",
        "    \n",
        "    Constraints: String that if contains \"not...at all\"\n",
        "    \"\"\"\n",
        "    \n",
        "    if \"not\" and \"at all\" in string:\n",
        "        not_index = string.find(\"not\")\n",
        "        all_index = string.find(\"all\") + len(\"all\")\n",
        "        replaced_string = string[not_index:all_index]\n",
        "        return string.replace(replaced_string, \"good\")\n",
        "    else:\n",
        "        return string\n",
        "    \n",
        "s1 = \"The company is not poor at all.\"         \n",
        "print(s1, \"=>\", replace_string_revise1(s1))\n",
        "s2 = \"I'm not at all happy about it.\"\n",
        "print(s2, \"=>\", replace_string_revise1(s2)) "
      ]
    },
    {
      "cell_type": "code",
      "execution_count": null,
      "id": "6948fd4c",
      "metadata": {
        "id": "6948fd4c",
        "outputId": "000c3d54-2d8f-4f72-e7a7-29f6bd39fe58"
      },
      "outputs": [
        {
          "name": "stdout",
          "output_type": "stream",
          "text": [
            "The company is not poor at all. => The company is good.\n",
            "I'm not at all happy about it. => I'm good happy about it.\n"
          ]
        }
      ],
      "source": [
        "# Review & revised\n",
        "def replace_string_revise2(string: str) -> str:\n",
        "    \"\"\" This is the function that replaces \"not...at all\" with \"good\".\n",
        "    \n",
        "    Constraints: String that if contains \"not...at all\"\n",
        "    \"\"\"\n",
        "    \n",
        "    if \"not\" and \"at all\" in string:\n",
        "        not_index = string.find(\"not\")\n",
        "        all_index = string.find(\"all\") + len(\"all\")\n",
        "        \n",
        "        left_string = string[:not_index]\n",
        "        right_string = string[all_index:]\n",
        "        return left_string + \"good\" + right_string \n",
        "    else:\n",
        "        return string\n",
        "    \n",
        "s1 = \"The company is not poor at all.\"         \n",
        "print(s1, \"=>\", replace_string_revise2(s1))\n",
        "s2 = \"I'm not at all happy about it.\"\n",
        "print(s2, \"=>\", replace_string_revise2(s2)) "
      ]
    },
    {
      "cell_type": "code",
      "execution_count": null,
      "id": "28ef48f0",
      "metadata": {
        "id": "28ef48f0",
        "outputId": "8f4714d1-9d0c-4796-9837-434c5edafe2f"
      },
      "outputs": [
        {
          "name": "stdout",
          "output_type": "stream",
          "text": [
            "The company is not poor at all. => The company is good.\n",
            "I'm not at all happy about it. => I'm good happy about it.\n"
          ]
        }
      ],
      "source": [
        "# Review & revised\n",
        "def replace_string_revise2(string: str) -> str:\n",
        "    \"\"\" This is the function that replaces \"not...at all\" with \"good\".\n",
        "    \n",
        "    Constraints: String that if contains \"not...at all\"\n",
        "    \"\"\"\n",
        "    \n",
        "    if \"not\" and \"at all\" in string:\n",
        "        left_string = string.split(\"not\")[0]\n",
        "        right_string = string.split(\"at all\")[1]\n",
        "        return f\"{left_string}good{right_string}\"\n",
        "    else:\n",
        "        return string\n",
        "    \n",
        "s1 = \"The company is not poor at all.\"         \n",
        "print(s1, \"=>\", replace_string_revise2(s1))\n",
        "s2 = \"I'm not at all happy about it.\"\n",
        "print(s2, \"=>\", replace_string_revise2(s2)) "
      ]
    },
    {
      "cell_type": "code",
      "execution_count": null,
      "id": "4edd11e9",
      "metadata": {
        "id": "4edd11e9"
      },
      "outputs": [],
      "source": []
    },
    {
      "cell_type": "markdown",
      "id": "dbb5e852",
      "metadata": {
        "id": "dbb5e852"
      },
      "source": [
        "#### Task #02 作業 02【實作題】字典元素合併"
      ]
    },
    {
      "cell_type": "code",
      "execution_count": null,
      "id": "ebd02976",
      "metadata": {
        "id": "ebd02976",
        "outputId": "8dc7f96d-73c3-4c64-8b5b-dbfad2bccc4c"
      },
      "outputs": [
        {
          "data": {
            "text/plain": [
              "{1: 10, 2: 20, 3: 30, 4: 40, 5: 50, 6: 60}"
            ]
          },
          "execution_count": 4,
          "metadata": {},
          "output_type": "execute_result"
        }
      ],
      "source": [
        "from collections import ChainMap\n",
        "\n",
        "dic1 = {1:10, 2:20}\n",
        "dic2 = {3:30, 4:40}\n",
        "dic3 = {5:50, 6:60}\n",
        "\n",
        "d = dict(ChainMap(dic1, dic2, dic3))\n",
        "dict(sorted(d.items(), key=lambda x:x[0]))"
      ]
    },
    {
      "cell_type": "code",
      "execution_count": null,
      "id": "d89ac173",
      "metadata": {
        "id": "d89ac173",
        "outputId": "704a9c79-8d66-4732-e87e-ce3d5cc4a9b8"
      },
      "outputs": [
        {
          "name": "stdout",
          "output_type": "stream",
          "text": [
            "{1: 10, 2: 20, 3: 30, 4: 40, 5: 50, 6: 60}\n"
          ]
        }
      ],
      "source": [
        "# My method 1 (args)\n",
        "dic1 = {1:10, 2:20}\n",
        "dic2 = {3:30, 4:40}\n",
        "dic3 = {5:50, 6:60}\n",
        "\n",
        "def dict_combine(*dicts: dict) -> dict:\n",
        "    d = dicts[0]\n",
        "    for dict in dicts[1:]:\n",
        "        d.update(dict)\n",
        "    return d\n",
        "\n",
        "d = dict_combine(dic1, dic2, dic3)\n",
        "print(d) # {1: 10, 2: 20, 3: 30, 4: 40, 5: 50, 6: 60}"
      ]
    },
    {
      "cell_type": "code",
      "execution_count": null,
      "id": "1c484795",
      "metadata": {
        "id": "1c484795",
        "outputId": "0a338c7a-7f3a-4464-fe55-a9e837654557"
      },
      "outputs": [
        {
          "name": "stdout",
          "output_type": "stream",
          "text": [
            "{1: 10, 2: 20, 3: 30, 4: 40, 5: 50, 6: 60}\n"
          ]
        }
      ],
      "source": [
        "# My method 2 (reduce)\n",
        "dic1 = {1:10, 2:20}\n",
        "dic2 = {3:30, 4:40}\n",
        "dic3 = {5:50, 6:60}\n",
        "\n",
        "from functools import reduce\n",
        "def dict_combine(dict1, dict2):\n",
        "    dict1.update(dict2)\n",
        "    return dict1\n",
        "\n",
        "d = reduce(dict_combine, (dic1, dic2, dic3))\n",
        "print(d)"
      ]
    },
    {
      "cell_type": "code",
      "execution_count": null,
      "id": "28e6704a",
      "metadata": {
        "id": "28e6704a",
        "outputId": "dbd89bff-deaf-4b10-b3ad-210cad1a3306"
      },
      "outputs": [
        {
          "name": "stdout",
          "output_type": "stream",
          "text": [
            "{1: 30, 2: 20, 4: 40, 5: 50, 6: 60}\n"
          ]
        }
      ],
      "source": [
        "# Better way\n",
        "dic1 = {1:10, 2:20}\n",
        "dic2 = {1:30, 4:40}\n",
        "dic3 = {5:50, 6:60}\n",
        "\n",
        "d = {**dic1, **dic2, **dic3}\n",
        "print(d)"
      ]
    },
    {
      "cell_type": "code",
      "execution_count": null,
      "id": "9a12a8c4",
      "metadata": {
        "id": "9a12a8c4",
        "outputId": "e5fab2d4-4a65-424c-a215-d2e096d057fe"
      },
      "outputs": [
        {
          "name": "stdout",
          "output_type": "stream",
          "text": [
            "{5: 50, 6: 60, 3: 30, 4: 40, 1: 10, 2: 20}\n"
          ]
        }
      ],
      "source": [
        "# Review & revised\n",
        "# ChainMap: A ChainMap groups multiple dicts (or other mappings) together to create a single, updateable view.\n",
        "from collections import ChainMap\n",
        "\n",
        "dic1 = {1: 10, 2: 20}\n",
        "dic2 = {3: 30, 4: 40}\n",
        "dic3 = {5: 50, 6: 60}\n",
        "\n",
        "d = dict(ChainMap(dic1, dic2, dic3))\n",
        "\n",
        "print(d)  # {1: 10, 2: 20, 3: 30, 4: 40, 5: 50, 6: 60}"
      ]
    },
    {
      "cell_type": "code",
      "execution_count": null,
      "id": "91f5545d",
      "metadata": {
        "id": "91f5545d"
      },
      "outputs": [],
      "source": []
    }
  ],
  "metadata": {
    "kernelspec": {
      "display_name": "Python 3 (ipykernel)",
      "language": "python",
      "name": "python3"
    },
    "language_info": {
      "codemirror_mode": {
        "name": "ipython",
        "version": 3
      },
      "file_extension": ".py",
      "mimetype": "text/x-python",
      "name": "python",
      "nbconvert_exporter": "python",
      "pygments_lexer": "ipython3",
      "version": "3.8.0"
    },
    "toc": {
      "base_numbering": 1,
      "nav_menu": {},
      "number_sections": true,
      "sideBar": true,
      "skip_h1_title": false,
      "title_cell": "Table of Contents",
      "title_sidebar": "Contents",
      "toc_cell": false,
      "toc_position": {},
      "toc_section_display": true,
      "toc_window_display": false
    },
    "colab": {
      "provenance": [],
      "include_colab_link": true
    }
  },
  "nbformat": 4,
  "nbformat_minor": 5
}