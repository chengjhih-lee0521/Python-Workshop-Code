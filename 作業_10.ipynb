{
 "cells": [
  {
   "cell_type": "markdown",
   "id": "5f61ba55",
   "metadata": {},
   "source": [
    "### Task #10 作業 01【簡答題】例外處理\n",
    "Questions and answers, no code."
   ]
  },
  {
   "cell_type": "code",
   "execution_count": null,
   "id": "2c7b1413",
   "metadata": {},
   "outputs": [],
   "source": [
    "# 文字題，沒有 code"
   ]
  }
 ],
 "metadata": {
  "kernelspec": {
   "display_name": "Python 3 (ipykernel)",
   "language": "python",
   "name": "python3"
  },
  "language_info": {
   "codemirror_mode": {
    "name": "ipython",
    "version": 3
   },
   "file_extension": ".py",
   "mimetype": "text/x-python",
   "name": "python",
   "nbconvert_exporter": "python",
   "pygments_lexer": "ipython3",
   "version": "3.8.0"
  },
  "toc": {
   "base_numbering": 1,
   "nav_menu": {},
   "number_sections": true,
   "sideBar": true,
   "skip_h1_title": false,
   "title_cell": "Table of Contents",
   "title_sidebar": "Contents",
   "toc_cell": false,
   "toc_position": {},
   "toc_section_display": true,
   "toc_window_display": false
  }
 },
 "nbformat": 4,
 "nbformat_minor": 5
}
