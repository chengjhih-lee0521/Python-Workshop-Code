{
  "cells": [
    {
      "cell_type": "markdown",
      "metadata": {
        "id": "view-in-github",
        "colab_type": "text"
      },
      "source": [
        "<a href=\"https://colab.research.google.com/github/chengjhih-lee0521/Python-Workshop-Code/blob/Python-Basic(II)/%E4%BD%9C%E6%A5%AD_03.ipynb\" target=\"_parent\"><img src=\"https://colab.research.google.com/assets/colab-badge.svg\" alt=\"Open In Colab\"/></a>"
      ]
    },
    {
      "cell_type": "markdown",
      "source": [
        "###  Task #03 作業 02【實作題】Two Sum"
      ],
      "metadata": {
        "id": "F7ObVva1Psz7"
      },
      "id": "F7ObVva1Psz7"
    },
    {
      "cell_type": "code",
      "execution_count": null,
      "id": "4b12ed19",
      "metadata": {
        "id": "4b12ed19"
      },
      "outputs": [],
      "source": [
        "from __future__ import annotations"
      ]
    },
    {
      "cell_type": "code",
      "execution_count": null,
      "id": "0509e989",
      "metadata": {
        "id": "0509e989",
        "outputId": "7f6ad0a9-76a1-4df7-add5-9018dcd97a5a"
      },
      "outputs": [
        {
          "name": "stdout",
          "output_type": "stream",
          "text": [
            "[0, 1]\n",
            "[1, 2]\n",
            "There isn't any pair of integers that satisfies the target in the list.\n",
            "None\n"
          ]
        }
      ],
      "source": [
        "# Situation 1: unique solution and same element is not allowed\n",
        "def two_sum(lst: list[int], target: int) -> list[int]:\n",
        "    \n",
        "    ''' Given an array of integers nums and an integer target, return indices of the \n",
        "    two numbers such that they add up to target.\n",
        "    \n",
        "    Constraints: Each input would have exactly one solution, and use the same element may not be used twice.\n",
        "    '''\n",
        "    \n",
        "    ind_lst = []\n",
        "    \n",
        "    \n",
        "    for num in lst:\n",
        "        a = num\n",
        "        b = target - a\n",
        "        \n",
        "        if (b in lst) and (a != b):\n",
        "            ind_lst.extend([lst.index(a), lst.index(b)])\n",
        "            return ind_lst\n",
        "    \n",
        "    # Optional\n",
        "    if len(ind_lst) == 0:\n",
        "        print(\"There isn't any pair of integers that satisfies the target in the list.\")\n",
        "                \n",
        "        \n",
        "print(two_sum([2,7,11,15], 9))\n",
        "print(two_sum([3,2,4], 6))\n",
        "print(two_sum([3,2,3,5], 6))"
      ]
    },
    {
      "cell_type": "code",
      "execution_count": null,
      "id": "138b3cb8",
      "metadata": {
        "id": "138b3cb8",
        "outputId": "8ba062a8-415d-4550-d2b4-8e17ae7b9a07"
      },
      "outputs": [
        {
          "name": "stdout",
          "output_type": "stream",
          "text": [
            "[0, 1]\n"
          ]
        }
      ],
      "source": [
        "# Review & revised\n",
        "nums = [2,7,11,15]; target = 9\n",
        "\n",
        "def twoSum(nums, target):\n",
        "    \n",
        "    n = len(nums)\n",
        "    \n",
        "    # 遍歷所有可能的數字組合\n",
        "    for i in range(n):\n",
        "        for j in range(i+1, n):\n",
        "            \n",
        "            # 如果找到符合條件的組合，返回它們的 index\n",
        "            if nums[i] + nums[j] == target:\n",
        "                return [i, j]\n",
        "    else:        \n",
        "        # 如果找不到符合條件的組合，返回空列表\n",
        "        return []\n",
        "\n",
        "d = twoSum(nums, target)\n",
        "print(d) # [0,1]"
      ]
    },
    {
      "cell_type": "code",
      "execution_count": null,
      "id": "ed4bda1a",
      "metadata": {
        "id": "ed4bda1a",
        "outputId": "3b90be32-556c-479d-d783-ced4602709f7"
      },
      "outputs": [
        {
          "name": "stdout",
          "output_type": "stream",
          "text": [
            "[0, 1]\n",
            "[1, 2]\n",
            "[0, 1]\n",
            "[0, 2]\n"
          ]
        }
      ],
      "source": [
        "# Situation 2: unique solution and same elements allowed \n",
        "def two_sum(lst: list[int], target: int)  -> list[int]:\n",
        "    \n",
        "    ''' Given an array of integers nums and an integer target, return indices of the \n",
        "    two numbers such that they add up to target.\n",
        "    \n",
        "    Constraints: Each input would have exactly one solution, and the same element is allowed.\n",
        "    '''\n",
        "    \n",
        "    for num1 in lst:\n",
        "        \n",
        "        a = num1\n",
        "        b = target - a\n",
        "        \n",
        "        lst_copy = lst.copy()\n",
        "        lst_copy.remove(a)\n",
        "        \n",
        "        if b in lst_copy:\n",
        "\n",
        "            if a != b:\n",
        "                ind_lst = [lst.index(a), lst.index(b)]\n",
        "\n",
        "            else:\n",
        "                ind_lst = [lst.index(a), lst_copy.index(b)+1]\n",
        "            \n",
        "            return ind_lst\n",
        "            \n",
        "    if len(ind_lst) == 0:\n",
        "        print(\"There isn't any pair of integers that satisfies the target in the list.\")\n",
        "        \n",
        "\n",
        "print(two_sum([2,7,11,15], 9))\n",
        "print(two_sum([3,2,4], 6))\n",
        "print(two_sum([3,3,4], 6))\n",
        "print(two_sum([3,2,3,5], 6))"
      ]
    },
    {
      "cell_type": "code",
      "execution_count": null,
      "id": "1e877076",
      "metadata": {
        "id": "1e877076",
        "outputId": "daea07d3-9146-4469-e585-56514fadc4ef"
      },
      "outputs": [
        {
          "name": "stdout",
          "output_type": "stream",
          "text": [
            "[(0, 1)]\n",
            "[(1, 2)]\n",
            "[(0, 1)]\n",
            "[(0, 2), (0, 4), (0, 7), (1, 5), (1, 9), (2, 4), (2, 7), (3, 5), (3, 9), (4, 7), (5, 6), (5, 8), (6, 9), (8, 9)]\n"
          ]
        }
      ],
      "source": [
        "# Situation 3: Find all possible pairs, same element allowed \n",
        "def two_sum(lst: list[int], target: int)  -> list[int]:\n",
        "    \n",
        "    ''' Given an array of integers nums and an integer target, return indices of the \n",
        "    two numbers such that they add up to target.\n",
        "    '''\n",
        "    \n",
        "    all_pairs = []\n",
        "    \n",
        "    # Here we really need to use the index (use list index is not appropriate for the same element)\n",
        "    for i in range(len(lst)):\n",
        "        \n",
        "        num1 = lst[i]\n",
        "        num2_lst = lst.copy()[i+1:]  # i + 1: no look back\n",
        "        \n",
        "        for j in range(len(num2_lst)):\n",
        "            \n",
        "            num2 = num2_lst[j]\n",
        "            \n",
        "            if num1 + num2 == target:\n",
        "                all_pairs.append((i, (i+1)+j))  # i + 1: because num2_lst starts from i+1 of lst\n",
        "                \n",
        "    return all_pairs\n",
        "                \n",
        "print(two_sum([2,7,11,15], 9))\n",
        "print(two_sum([3,2,4], 6))\n",
        "print(two_sum([3,3,4], 6))\n",
        "print(two_sum([3,4,3,4,3,2,4,3,4,2], 6))                "
      ]
    },
    {
      "cell_type": "code",
      "execution_count": null,
      "id": "30d9564a",
      "metadata": {
        "id": "30d9564a"
      },
      "outputs": [],
      "source": []
    },
    {
      "cell_type": "markdown",
      "id": "96bf9270",
      "metadata": {
        "id": "96bf9270"
      },
      "source": [
        "### Task #03 作業 01【實作題】Self-Dividing Number"
      ]
    },
    {
      "cell_type": "code",
      "execution_count": null,
      "id": "8e846691",
      "metadata": {
        "id": "8e846691",
        "outputId": "bd8a7850-f2c9-4af6-bdec-54d166aad3d0"
      },
      "outputs": [
        {
          "name": "stdout",
          "output_type": "stream",
          "text": [
            "(12, 15)\n",
            "(555, 612)\n",
            "(57715, 59355)\n"
          ]
        }
      ],
      "source": [
        "# My method (version 1: seperate into two tasks)\n",
        "def self_dividing_number(lower: int, upper: int) -> tuple:\n",
        "    \n",
        "    candidate = []\n",
        "    \n",
        "    # Task 1: Select the candidate\n",
        "    for n in range(lower, upper+1):\n",
        "        \n",
        "        digit_lst = [int(i) for i in str(n)]\n",
        "        count = 0\n",
        "        \n",
        "        for d in digit_lst:\n",
        "    \n",
        "            try:\n",
        "                if n%d == 0:\n",
        "                    count += 1\n",
        "                \n",
        "            except ZeroDivisionError:\n",
        "                continue\n",
        "                \n",
        "                \n",
        "            # -or-\n",
        "            #if d == 0:\n",
        "            #    continue\n",
        "            #else:\n",
        "            #    if n%d == 0:\n",
        "            #        count += 1\n",
        "        \n",
        "        # Store the candidate into list\n",
        "        if count == len(digit_lst):  \n",
        "            candidate.append(n)\n",
        "    \n",
        "    # Task 2: Find the interval of maximum gap\n",
        "    diff = [y-x for (x, y) in zip(candidate[0:len(candidate)], candidate[1:])]\n",
        "    max_diff_index = diff.index(max(diff))\n",
        "    return (candidate[max_diff_index], candidate[max_diff_index+1])\n",
        "\n",
        "print(self_dividing_number(11, 20))\n",
        "print(self_dividing_number(100, 900))\n",
        "print(self_dividing_number(0, 90000))"
      ]
    },
    {
      "cell_type": "code",
      "execution_count": null,
      "id": "808a1abe",
      "metadata": {
        "id": "808a1abe",
        "outputId": "cbcc97f6-2ac4-4521-9922-ce3a78a7b42b"
      },
      "outputs": [
        {
          "name": "stdout",
          "output_type": "stream",
          "text": [
            "(12, 15)\n",
            "(555, 612)\n",
            "(57715, 59355)\n"
          ]
        }
      ],
      "source": [
        "# My method (version 2: combine two tasks; less memory)\n",
        "def self_dividing_number(lower: int, upper: int) -> tuple:\n",
        "    \n",
        "    diff = 0\n",
        "    pre_cand = lower\n",
        "    \n",
        "    # Select the candidate\n",
        "    for n in range(lower, upper+1):\n",
        "        \n",
        "        digit_lst = [int(i) for i in str(n)]\n",
        "        count = 0\n",
        "        \n",
        "        for d in digit_lst:\n",
        "    \n",
        "            try:\n",
        "                if n%d == 0:\n",
        "                    count += 1\n",
        "                \n",
        "            except ZeroDivisionError:\n",
        "                continue\n",
        "                \n",
        "                \n",
        "            # -or-\n",
        "            #if d == 0:\n",
        "            #    continue\n",
        "            #else:\n",
        "            #    if n%d == 0:\n",
        "            #        count += 1\n",
        "        \n",
        "        # candidate happens\n",
        "        if count == len(digit_lst):\n",
        "            \n",
        "            # update candidate pair\n",
        "            if n - pre_cand > diff:\n",
        "                candidate_pair = (pre_cand, n)\n",
        "                diff = n - pre_cand\n",
        "            \n",
        "            # previous candidate should be updated whether candidate pair is updated\n",
        "            pre_cand = n\n",
        "    \n",
        "    return candidate_pair\n",
        "\n",
        "\n",
        "print(self_dividing_number(11, 20))\n",
        "print(self_dividing_number(100, 900))\n",
        "print(self_dividing_number(0, 90000))"
      ]
    },
    {
      "cell_type": "code",
      "execution_count": null,
      "id": "2ecc9cb9",
      "metadata": {
        "id": "2ecc9cb9",
        "outputId": "e23c9bb7-db20-436c-e707-e11d3ce695f8"
      },
      "outputs": [
        {
          "name": "stdout",
          "output_type": "stream",
          "text": [
            "(12, 15)\n",
            "(555, 612)\n",
            "(57715, 59355)\n"
          ]
        }
      ],
      "source": [
        "# My method (revise version 2: use all replace count == len + for-loop)\n",
        "def self_dividing_number(lower: int, upper: int) -> tuple:\n",
        "    \n",
        "    diff = 0\n",
        "    pre_cand = lower\n",
        "    \n",
        "    # Select the candidate\n",
        "    for n in range(lower, upper+1):\n",
        "        \n",
        "        sep_digit = [int(i) for i in str(n)]\n",
        "        \n",
        "        if all([False if d == 0 else True if n%d == 0 else False for d in sep_digit]):\n",
        "            \n",
        "            # candidate updates\n",
        "            if n - pre_cand > diff:\n",
        "                candidate_pair = (pre_cand, n)\n",
        "                diff = n - pre_cand\n",
        "            \n",
        "            # previous candidate should be updated no matter candidate pair is updated\n",
        "            pre_cand = n\n",
        "    \n",
        "    return candidate_pair\n",
        "\n",
        "\n",
        "print(self_dividing_number(11, 20))\n",
        "print(self_dividing_number(100, 900))\n",
        "print(self_dividing_number(0, 90000))"
      ]
    },
    {
      "cell_type": "code",
      "execution_count": null,
      "id": "c2300b52",
      "metadata": {
        "id": "c2300b52"
      },
      "outputs": [],
      "source": []
    }
  ],
  "metadata": {
    "kernelspec": {
      "display_name": "Python 3 (ipykernel)",
      "language": "python",
      "name": "python3"
    },
    "language_info": {
      "codemirror_mode": {
        "name": "ipython",
        "version": 3
      },
      "file_extension": ".py",
      "mimetype": "text/x-python",
      "name": "python",
      "nbconvert_exporter": "python",
      "pygments_lexer": "ipython3",
      "version": "3.8.0"
    },
    "toc": {
      "base_numbering": 1,
      "nav_menu": {},
      "number_sections": true,
      "sideBar": true,
      "skip_h1_title": false,
      "title_cell": "Table of Contents",
      "title_sidebar": "Contents",
      "toc_cell": false,
      "toc_position": {},
      "toc_section_display": true,
      "toc_window_display": false
    },
    "colab": {
      "provenance": [],
      "include_colab_link": true
    }
  },
  "nbformat": 4,
  "nbformat_minor": 5
}