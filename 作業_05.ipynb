{
  "cells": [
    {
      "cell_type": "markdown",
      "metadata": {
        "id": "view-in-github",
        "colab_type": "text"
      },
      "source": [
        "<a href=\"https://colab.research.google.com/github/chengjhih-lee0521/Python-Workshop-Code/blob/Python-Basic(II)/%E4%BD%9C%E6%A5%AD_05.ipynb\" target=\"_parent\"><img src=\"https://colab.research.google.com/assets/colab-badge.svg\" alt=\"Open In Colab\"/></a>"
      ]
    },
    {
      "cell_type": "markdown",
      "id": "0b668963",
      "metadata": {
        "id": "0b668963"
      },
      "source": [
        "### Task #05 作業 01【實作題】不重複的排列組合"
      ]
    },
    {
      "cell_type": "code",
      "execution_count": null,
      "id": "d40641a0",
      "metadata": {
        "id": "d40641a0",
        "outputId": "9a39f0fd-b6f6-4368-98b9-6ca3a807f94d"
      },
      "outputs": [
        {
          "name": "stdout",
          "output_type": "stream",
          "text": [
            "['BAA', 'AAB', 'ABA']\n",
            "['CBA', 'BAA', 'CAB', 'AAB', 'BCA', 'ABA', 'ACB', 'BAC', 'ABC']\n"
          ]
        }
      ],
      "source": [
        "# Method 1\n",
        "permutation_list = []\n",
        "\n",
        "def permute(s: str, answer = ''):\n",
        "    \n",
        "    if len(s) == 0:\n",
        "        permutation_list.append(answer)\n",
        "        \n",
        "    for i in range(len(s)):\n",
        "        \n",
        "        # iterate through every ith character\n",
        "        chr_ = s[i]\n",
        "        \n",
        "        # collect the rest of the substring\n",
        "        # Note: cannot use str.replace (repeated substrings in the string case would be wrong)\n",
        "        chr_left = s[0:i]\n",
        "        chr_right = s[(i+1):]\n",
        "        rest = chr_left + chr_right\n",
        "        \n",
        "        permute(s = rest, answer = answer + chr_)\n",
        "        \n",
        "    return list(set(permutation_list))\n",
        "\n",
        "print(permute('AAB'))\n",
        "print(permute('ABC'))"
      ]
    },
    {
      "cell_type": "code",
      "execution_count": null,
      "id": "3eb67bdb",
      "metadata": {
        "scrolled": false,
        "id": "3eb67bdb",
        "outputId": "7452e4cf-6d99-46b1-9d6e-420211963156"
      },
      "outputs": [
        {
          "name": "stdout",
          "output_type": "stream",
          "text": [
            "l=0, i=0, r=3\n",
            "l=1, i=1, r=3\n",
            "l=2, i=2, r=3\n",
            "l=3, r=3; Output: ABC\n",
            "##########\n",
            "l=2, i=2, r=3\n",
            "Backtrack: ABC\n",
            "##########\n",
            "l=1, i=1, r=3\n",
            "Backtrack: ABC\n",
            "l=1, i=2, r=3\n",
            "l=2, i=2, r=3\n",
            "l=3, r=3; Output: ACB\n",
            "##########\n",
            "l=2, i=2, r=3\n",
            "Backtrack: ACB\n",
            "##########\n",
            "l=1, i=2, r=3\n",
            "Backtrack: ABC\n",
            "##########\n",
            "l=0, i=0, r=3\n",
            "Backtrack: ABC\n",
            "l=0, i=1, r=3\n",
            "l=1, i=1, r=3\n",
            "l=2, i=2, r=3\n",
            "l=3, r=3; Output: BAC\n",
            "##########\n",
            "l=2, i=2, r=3\n",
            "Backtrack: BAC\n",
            "##########\n",
            "l=1, i=1, r=3\n",
            "Backtrack: BAC\n",
            "l=1, i=2, r=3\n",
            "l=2, i=2, r=3\n",
            "l=3, r=3; Output: BCA\n",
            "##########\n",
            "l=2, i=2, r=3\n",
            "Backtrack: BCA\n",
            "##########\n",
            "l=1, i=2, r=3\n",
            "Backtrack: BAC\n",
            "##########\n",
            "l=0, i=1, r=3\n",
            "Backtrack: ABC\n",
            "l=0, i=2, r=3\n",
            "l=1, i=1, r=3\n",
            "l=2, i=2, r=3\n",
            "l=3, r=3; Output: CBA\n",
            "##########\n",
            "l=2, i=2, r=3\n",
            "Backtrack: CBA\n",
            "##########\n",
            "l=1, i=1, r=3\n",
            "Backtrack: CBA\n",
            "l=1, i=2, r=3\n",
            "l=2, i=2, r=3\n",
            "l=3, r=3; Output: CAB\n",
            "##########\n",
            "l=2, i=2, r=3\n",
            "Backtrack: CAB\n",
            "##########\n",
            "l=1, i=2, r=3\n",
            "Backtrack: CBA\n",
            "##########\n",
            "l=0, i=2, r=3\n",
            "Backtrack: ABC\n"
          ]
        }
      ],
      "source": [
        "# Method 2 (先觀察)\n",
        "def permute(a, l, r):\n",
        "    if l == r:\n",
        "        print(f\"l={l}, r={r};\", \"Output:\", ''.join(a))\n",
        "    else:\n",
        "        for i in range(l, r):\n",
        "            print(f\"l={l}, i={i}, r={r}\")\n",
        "            a[l], a[i] = a[i], a[l]\n",
        "            permute(a, l+1, r)\n",
        "            \n",
        "            print(\"#\" * 10)\n",
        "            \n",
        "            print(f\"l={l}, i={i}, r={r}\")\n",
        "            a[l], a[i] = a[i], a[l]  # backtrack to original string\n",
        "            print(\"Backtrack:\", ''.join(a))\n",
        " \n",
        " \n",
        "# Driver code\n",
        "string = \"ABC\"\n",
        "n = len(string)\n",
        "a = list(string)\n",
        " \n",
        "# Function call\n",
        "permute(a, 0, n)"
      ]
    },
    {
      "cell_type": "code",
      "execution_count": null,
      "id": "b48aa515",
      "metadata": {
        "id": "b48aa515",
        "outputId": "8f6a8573-4364-41b9-e5cf-fd55caeda1bd"
      },
      "outputs": [
        {
          "data": {
            "text/plain": [
              "['CBA', 'CAB', 'BCA', 'ACB', 'BAC', 'ABC']"
            ]
          },
          "execution_count": 167,
          "metadata": {},
          "output_type": "execute_result"
        }
      ],
      "source": [
        "# Method 2 \n",
        "permutation_list = []\n",
        "\n",
        "def permute(a, l, r):\n",
        "    if l == r:\n",
        "        permutation_list.append(''.join(a))\n",
        "    else:\n",
        "        for i in range(l, r):\n",
        "            a[l], a[i] = a[i], a[l]\n",
        "            permute(a, l+1, r)\n",
        "            a[l], a[i] = a[i], a[l]  # backtrack\n",
        "     \n",
        "    return list(set(permutation_list))\n",
        "\n",
        "# Driver code\n",
        "string = \"ABC\"\n",
        "n = len(string)\n",
        "a = list(string)\n",
        " \n",
        "# Function call\n",
        "permute(a, 0, n)"
      ]
    },
    {
      "cell_type": "code",
      "execution_count": null,
      "id": "3334973e",
      "metadata": {
        "id": "3334973e"
      },
      "outputs": [],
      "source": []
    },
    {
      "cell_type": "markdown",
      "id": "ec2f2ce8",
      "metadata": {
        "id": "ec2f2ce8"
      },
      "source": [
        "### Task #05 作業 02【實作題】Climbing Stairs"
      ]
    },
    {
      "cell_type": "code",
      "execution_count": null,
      "id": "93ec629a",
      "metadata": {
        "id": "93ec629a",
        "outputId": "3070308f-eca8-461e-8045-04eb57cea1b5"
      },
      "outputs": [
        {
          "name": "stdout",
          "output_type": "stream",
          "text": [
            "10\n",
            "89\n"
          ]
        }
      ],
      "source": [
        "n = input()  \n",
        "\n",
        "def climbing_stairs(step: int) -> int:\n",
        "    ''' Thoughts: Find the all possible integer solutions (x, y) for x + 2y = step\n",
        "    \n",
        "    For example, step = 3 then (x, y) = {(1, 1), (3, 0)}\n",
        "    '''\n",
        "    def factorial(n: int) -> int:\n",
        "        assert n >= 0, \"n should be positive\"\n",
        "        if n in [0, 1]:\n",
        "            return 1\n",
        "        else:\n",
        "            return n * factorial(n - 1)\n",
        "        \n",
        "    def C(n: int, k: int) -> int:\n",
        "        if n < k:\n",
        "            raise ValueError(\"n should be not smaller than k\")\n",
        "        elif (n == k) or (k == 0):\n",
        "            return 1\n",
        "        else:\n",
        "            return factorial(n) / (factorial(k)*factorial(n-k))\n",
        "    \n",
        "    sol = []\n",
        "    for x in range(0, step+1):\n",
        "        if (step - x) % 2 == 0:\n",
        "            y = int((step - x)/2)\n",
        "            sol.append((x, y))\n",
        "        \n",
        "    count = [C(x+y, y) for (x, y) in sol]    \n",
        "    return int(sum(count))\n",
        "\n",
        "d = climbing_stairs(int(n))\n",
        "print(d) # 2"
      ]
    },
    {
      "cell_type": "code",
      "execution_count": null,
      "id": "fe6cf94d",
      "metadata": {
        "id": "fe6cf94d"
      },
      "outputs": [],
      "source": []
    }
  ],
  "metadata": {
    "kernelspec": {
      "display_name": "Python 3 (ipykernel)",
      "language": "python",
      "name": "python3"
    },
    "language_info": {
      "codemirror_mode": {
        "name": "ipython",
        "version": 3
      },
      "file_extension": ".py",
      "mimetype": "text/x-python",
      "name": "python",
      "nbconvert_exporter": "python",
      "pygments_lexer": "ipython3",
      "version": "3.8.0"
    },
    "toc": {
      "base_numbering": 1,
      "nav_menu": {},
      "number_sections": true,
      "sideBar": true,
      "skip_h1_title": false,
      "title_cell": "Table of Contents",
      "title_sidebar": "Contents",
      "toc_cell": false,
      "toc_position": {},
      "toc_section_display": true,
      "toc_window_display": false
    },
    "colab": {
      "provenance": [],
      "include_colab_link": true
    }
  },
  "nbformat": 4,
  "nbformat_minor": 5
}