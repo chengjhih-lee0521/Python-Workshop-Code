{
 "cells": [
  {
   "cell_type": "markdown",
   "metadata": {},
   "source": [
    "### Task #05 作業 01【簡答題】進階容器操作\n",
    "Questions and answers, no code."
   ]
  },
  {
   "cell_type": "code",
   "execution_count": 28,
   "metadata": {},
   "outputs": [],
   "source": [
    "# 文字題，沒有 code"
   ]
  },
  {
   "cell_type": "markdown",
   "metadata": {},
   "source": [
    "### Task #05 作業 02【實作題】集合元素合併\n",
    "Combine multiple dictionaries into one."
   ]
  },
  {
   "cell_type": "code",
   "execution_count": 6,
   "metadata": {},
   "outputs": [
    {
     "name": "stdout",
     "output_type": "stream",
     "text": [
      "{1: 10, 2: 20, 3: 30, 4: 40, 5: 50, 6: 60}\n"
     ]
    }
   ],
   "source": [
    "d1 = {1:10, 2:20}\n",
    "d2 = {3:30, 4:40}\n",
    "d3 = {5:50, 6:60}\n",
    "\n",
    "d = d1.copy()\n",
    "d.update(d2)\n",
    "d.update(d3)\n",
    "print(d) # {1: 10, 2: 20, 3: 30, 4: 40, 5: 50, 6: 60}"
   ]
  },
  {
   "cell_type": "code",
   "execution_count": 7,
   "metadata": {},
   "outputs": [
    {
     "data": {
      "text/plain": [
       "{1: 10, 2: 20, 3: 30, 4: 40, 5: 50, 6: 60}"
      ]
     },
     "execution_count": 7,
     "metadata": {},
     "output_type": "execute_result"
    }
   ],
   "source": [
    "# Write it as function (for multiple dicts)\n",
    "def update_dict(*args):\n",
    "    agg_d = {}\n",
    "    for dict_ in args:\n",
    "        agg_d.update(dict_)\n",
    "    return agg_d\n",
    "\n",
    "update_dict(d1, d2, d3)"
   ]
  },
  {
   "cell_type": "code",
   "execution_count": null,
   "metadata": {},
   "outputs": [],
   "source": []
  },
  {
   "cell_type": "markdown",
   "metadata": {},
   "source": [
    "### Task #05 作業 03【實作題】去除重複與排序\n",
    "Remove the repeated elements in the list and sort them decreasingly."
   ]
  },
  {
   "cell_type": "code",
   "execution_count": 12,
   "metadata": {},
   "outputs": [
    {
     "name": "stdout",
     "output_type": "stream",
     "text": [
      "[9, 8, 7, 3, 1]\n"
     ]
    }
   ],
   "source": [
    "# Method 1\n",
    "L = [1, 1, 3, 9, 7, 8, 8, 8]\n",
    "L = sorted(set(L), reverse=True)\n",
    "print(L)  # [9, 8, 7, 3, 1]"
   ]
  },
  {
   "cell_type": "code",
   "execution_count": 13,
   "metadata": {},
   "outputs": [
    {
     "name": "stdout",
     "output_type": "stream",
     "text": [
      "[9, 8, 7, 3, 1]\n"
     ]
    }
   ],
   "source": [
    "# Method 2\n",
    "L = [1, 1, 3, 9, 7, 8, 8, 8]\n",
    "\n",
    "for num in set(L):\n",
    "    while L.count(num) != 1:\n",
    "        L.remove(num)\n",
    "L.sort(reverse=True)\n",
    "\n",
    "print(L)  # [9, 8, 7, 3, 1]"
   ]
  },
  {
   "cell_type": "code",
   "execution_count": null,
   "metadata": {},
   "outputs": [],
   "source": []
  }
 ],
 "metadata": {
  "kernelspec": {
   "display_name": "Python 3 (ipykernel)",
   "language": "python",
   "name": "python3"
  },
  "language_info": {
   "codemirror_mode": {
    "name": "ipython",
    "version": 3
   },
   "file_extension": ".py",
   "mimetype": "text/x-python",
   "name": "python",
   "nbconvert_exporter": "python",
   "pygments_lexer": "ipython3",
   "version": "3.8.0"
  },
  "toc": {
   "base_numbering": 1,
   "nav_menu": {},
   "number_sections": true,
   "sideBar": true,
   "skip_h1_title": false,
   "title_cell": "Table of Contents",
   "title_sidebar": "Contents",
   "toc_cell": false,
   "toc_position": {},
   "toc_section_display": true,
   "toc_window_display": false
  }
 },
 "nbformat": 4,
 "nbformat_minor": 4
}
