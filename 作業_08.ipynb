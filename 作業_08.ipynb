{
  "nbformat": 4,
  "nbformat_minor": 0,
  "metadata": {
    "colab": {
      "provenance": [],
      "authorship_tag": "ABX9TyNkTJGe2/9ZlbVA+R+2283+",
      "include_colab_link": true
    },
    "kernelspec": {
      "name": "python3",
      "display_name": "Python 3"
    },
    "language_info": {
      "name": "python"
    }
  },
  "cells": [
    {
      "cell_type": "markdown",
      "metadata": {
        "id": "view-in-github",
        "colab_type": "text"
      },
      "source": [
        "<a href=\"https://colab.research.google.com/github/chengjhih-lee0521/Python-Workshop-Code/blob/Python-Basic(II)/%E4%BD%9C%E6%A5%AD_08.ipynb\" target=\"_parent\"><img src=\"https://colab.research.google.com/assets/colab-badge.svg\" alt=\"Open In Colab\"/></a>"
      ]
    },
    {
      "cell_type": "code",
      "execution_count": 4,
      "metadata": {
        "id": "hpvNIdlQ7EY0"
      },
      "outputs": [],
      "source": [
        "import sqlite3\n",
        "import datetime\n",
        "import requests\n",
        "import json"
      ]
    },
    {
      "cell_type": "code",
      "source": [
        "conn = sqlite3.connect('example.db')\n",
        "c = conn.cursor()\n",
        "\n",
        "# 新增且清空資料表\n",
        "c.execute('''CREATE TABLE IF NOT EXISTS pharmacies\n",
        "             (city text, counts text, createdAt datetime)''')\n",
        "c.execute('''DELETE FROM pharmacies''')\n",
        "conn.commit()\n",
        "\n",
        "# 新增資料\n",
        "url = \"https://raw.githubusercontent.com/kiang/pharmacies/master/json/points.json\"\n",
        "response = requests.get(url)\n",
        "d = response.text\n",
        "data = json.loads(d)\n",
        "\n",
        "med_count = {}\n",
        "\n",
        "# 填入欄位名稱\n",
        "for d in data[\"features\"]:\n",
        "    county = d[\"properties\"][\"address\"][0:3]\n",
        "    med_count[county] = med_count.get(county, 0) + 1\n",
        "\n",
        "for city, counts in med_count.items():\n",
        "    t = datetime.datetime.now()\n",
        "    c.execute(f\"INSERT INTO pharmacies VALUES ('{city}', {counts}, '{t}')\")\n",
        "    conn.commit()\n",
        "\n",
        "# 查詢資料\n",
        "c.execute(\"SELECT * FROM pharmacies\")\n",
        "print(c.fetchall())\n",
        "conn.commit()\n",
        "conn.close()"
      ],
      "metadata": {
        "colab": {
          "base_uri": "https://localhost:8080/"
        },
        "id": "bKAae7O27UEs",
        "outputId": "a1e98337-d951-48c4-a63f-69878c50ad6d"
      },
      "execution_count": 15,
      "outputs": [
        {
          "output_type": "stream",
          "name": "stdout",
          "text": [
            "[('臺北市', '340', '2023-03-30 10:14:06.621848'), ('高雄市', '424', '2023-03-30 10:14:06.634914'), ('臺中市', '436', '2023-03-30 10:14:06.643654'), ('臺南市', '280', '2023-03-30 10:14:06.652870'), ('基隆市', '57', '2023-03-30 10:14:06.662340'), ('新竹市', '39', '2023-03-30 10:14:06.672356'), ('嘉義市', '67', '2023-03-30 10:14:06.681610'), ('新北市', '507', '2023-03-30 10:14:06.690688'), ('桃園市', '271', '2023-03-30 10:14:06.700118'), ('新竹縣', '48', '2023-03-30 10:14:06.710405'), ('宜蘭縣', '76', '2023-03-30 10:14:06.719890'), ('苗栗縣', '57', '2023-03-30 10:14:06.731625'), ('彰化縣', '181', '2023-03-30 10:14:06.742414'), ('南投縣', '67', '2023-03-30 10:14:06.751697'), ('雲林縣', '131', '2023-03-30 10:14:06.762722'), ('嘉義縣', '84', '2023-03-30 10:14:06.771083'), ('屏東縣', '140', '2023-03-30 10:14:06.780742'), ('澎湖縣', '11', '2023-03-30 10:14:06.789682'), ('花蓮縣', '47', '2023-03-30 10:14:06.799945'), ('臺東縣', '23', '2023-03-30 10:14:06.809112'), ('金門縣', '6', '2023-03-30 10:14:06.818431'), ('連江縣', '1', '2023-03-30 10:14:06.827567')]\n"
          ]
        }
      ]
    },
    {
      "cell_type": "code",
      "source": [],
      "metadata": {
        "id": "rfoqmYwr9QIT"
      },
      "execution_count": null,
      "outputs": []
    }
  ]
}