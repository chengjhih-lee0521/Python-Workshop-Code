{
 "cells": [
  {
   "cell_type": "markdown",
   "metadata": {},
   "source": [
    "### Task #09 作業 01【簡答題】函式\n",
    "Questions and answers, no code."
   ]
  },
  {
   "cell_type": "code",
   "execution_count": 43,
   "metadata": {},
   "outputs": [],
   "source": [
    "# 文字題，沒有 code"
   ]
  },
  {
   "cell_type": "markdown",
   "metadata": {},
   "source": [
    "#### 1-3 找最大的數值"
   ]
  },
  {
   "cell_type": "code",
   "execution_count": 44,
   "metadata": {},
   "outputs": [
    {
     "name": "stdout",
     "output_type": "stream",
     "text": [
      "5\n",
      "5\n",
      "7\n"
     ]
    }
   ],
   "source": [
    "def f(*numbers):\n",
    "    \"\"\" Find the largest number without the limited number of integers\n",
    "    a: Every integer of all numbers\n",
    "    b: Maximum of all numbers\n",
    "    \"\"\"\n",
    "    b = numbers[0]\n",
    "    for a in numbers:\n",
    "        if a > b:\n",
    "            b = a\n",
    "    return b\n",
    "\n",
    "print(f(3, 5))\n",
    "print(f(3, 4, 5))\n",
    "print(f(3, 4, 5, 6, 7))"
   ]
  },
  {
   "cell_type": "markdown",
   "metadata": {},
   "source": [
    "#### 1-4 請問下方程式碼會回傳什麼結果？\n",
    "\n",
    "a = 'A' \n",
    "\n",
    "def f(b): \\\n",
    "    a = 'AAA' \\\n",
    "    c = 'C' \\\n",
    "    print(a) \\\n",
    "    print(b) \\\n",
    "    print(c) \\\n",
    "    return b \n",
    "\n",
    "print(a) \\\n",
    "print(f('B')) \\\n",
    "print(a)"
   ]
  },
  {
   "cell_type": "code",
   "execution_count": 45,
   "metadata": {},
   "outputs": [
    {
     "name": "stdout",
     "output_type": "stream",
     "text": [
      "A\n",
      "AAA\n",
      "B\n",
      "C\n",
      "B\n",
      "A\n"
     ]
    }
   ],
   "source": [
    "a = 'A'\n",
    "\n",
    "def f(b):\n",
    "    a = 'AAA'\n",
    "    c = 'C'\n",
    "    print(a)\n",
    "    print(b)\n",
    "    print(c)\n",
    "    return b\n",
    "\n",
    "print(a)\n",
    "print(f('B'))\n",
    "print(a)"
   ]
  },
  {
   "cell_type": "markdown",
   "metadata": {},
   "source": [
    "#### 1-5 請問下方程式碼會回傳什麼結果？\n",
    "a = 'A'\n",
    "\n",
    "def f(b): \\\n",
    "    c = 'C' \\\n",
    "    print(a) \\\n",
    "    a = 'AAA' \\\n",
    "    print(b) \\\n",
    "    print(c) \\\n",
    "    return b\n",
    "\n",
    "print(a) \\\n",
    "print(f('B')) \\\n",
    "print(a)"
   ]
  },
  {
   "cell_type": "code",
   "execution_count": 47,
   "metadata": {},
   "outputs": [
    {
     "name": "stdout",
     "output_type": "stream",
     "text": [
      "A\n"
     ]
    },
    {
     "ename": "UnboundLocalError",
     "evalue": "local variable 'a' referenced before assignment",
     "output_type": "error",
     "traceback": [
      "\u001b[1;31m---------------------------------------------------------------------------\u001b[0m",
      "\u001b[1;31mUnboundLocalError\u001b[0m                         Traceback (most recent call last)",
      "\u001b[1;32m<ipython-input-47-c1db174518b5>\u001b[0m in \u001b[0;36m<module>\u001b[1;34m\u001b[0m\n\u001b[0;32m     10\u001b[0m \u001b[1;33m\u001b[0m\u001b[0m\n\u001b[0;32m     11\u001b[0m \u001b[0mprint\u001b[0m\u001b[1;33m(\u001b[0m\u001b[0ma\u001b[0m\u001b[1;33m)\u001b[0m\u001b[1;33m\u001b[0m\u001b[1;33m\u001b[0m\u001b[0m\n\u001b[1;32m---> 12\u001b[1;33m \u001b[0mprint\u001b[0m\u001b[1;33m(\u001b[0m\u001b[0mf\u001b[0m\u001b[1;33m(\u001b[0m\u001b[1;34m'B'\u001b[0m\u001b[1;33m)\u001b[0m\u001b[1;33m)\u001b[0m\u001b[1;33m\u001b[0m\u001b[1;33m\u001b[0m\u001b[0m\n\u001b[0m\u001b[0;32m     13\u001b[0m \u001b[0mprint\u001b[0m\u001b[1;33m(\u001b[0m\u001b[0ma\u001b[0m\u001b[1;33m)\u001b[0m\u001b[1;33m\u001b[0m\u001b[1;33m\u001b[0m\u001b[0m\n",
      "\u001b[1;32m<ipython-input-47-c1db174518b5>\u001b[0m in \u001b[0;36mf\u001b[1;34m(b)\u001b[0m\n\u001b[0;32m      3\u001b[0m \u001b[1;32mdef\u001b[0m \u001b[0mf\u001b[0m\u001b[1;33m(\u001b[0m\u001b[0mb\u001b[0m\u001b[1;33m)\u001b[0m\u001b[1;33m:\u001b[0m\u001b[1;33m\u001b[0m\u001b[1;33m\u001b[0m\u001b[0m\n\u001b[0;32m      4\u001b[0m     \u001b[0mc\u001b[0m \u001b[1;33m=\u001b[0m \u001b[1;34m'C'\u001b[0m\u001b[1;33m\u001b[0m\u001b[1;33m\u001b[0m\u001b[0m\n\u001b[1;32m----> 5\u001b[1;33m     \u001b[0mprint\u001b[0m\u001b[1;33m(\u001b[0m\u001b[0ma\u001b[0m\u001b[1;33m)\u001b[0m\u001b[1;33m\u001b[0m\u001b[1;33m\u001b[0m\u001b[0m\n\u001b[0m\u001b[0;32m      6\u001b[0m     \u001b[0ma\u001b[0m \u001b[1;33m=\u001b[0m \u001b[1;34m'AAA'\u001b[0m\u001b[1;33m\u001b[0m\u001b[1;33m\u001b[0m\u001b[0m\n\u001b[0;32m      7\u001b[0m     \u001b[0mprint\u001b[0m\u001b[1;33m(\u001b[0m\u001b[0mb\u001b[0m\u001b[1;33m)\u001b[0m\u001b[1;33m\u001b[0m\u001b[1;33m\u001b[0m\u001b[0m\n",
      "\u001b[1;31mUnboundLocalError\u001b[0m: local variable 'a' referenced before assignment"
     ]
    }
   ],
   "source": [
    "a = 'A'\n",
    "\n",
    "def f(b):\n",
    "    c = 'C'\n",
    "    print(a)\n",
    "    a = 'AAA'\n",
    "    print(b)\n",
    "    print(c)\n",
    "    return b\n",
    "\n",
    "print(a)\n",
    "print(f('B'))\n",
    "print(a)"
   ]
  },
  {
   "cell_type": "markdown",
   "metadata": {},
   "source": [
    "### Task #09 作業 02【實作題】定義函式\n",
    "Define an integer if it's a prime number and return all the prime numbers of that integer."
   ]
  },
  {
   "cell_type": "code",
   "execution_count": 91,
   "metadata": {},
   "outputs": [
    {
     "name": "stdout",
     "output_type": "stream",
     "text": [
      "20\n",
      "20 is not a Prime number.; the prime numbers smaller than 20 are [2, 3, 5, 7, 11, 13, 17, 19]\n"
     ]
    }
   ],
   "source": [
    "x = input() # 20\n",
    " \n",
    "def prime(n = int(x)):\n",
    "    if n == 1:\n",
    "        raise ValueError(\"1 is not a prime number.\")\n",
    "    \n",
    "    if n < 0:\n",
    "        raise ValueError(\"Input number should be larger than 1.\")\n",
    "    \n",
    "    prime_num = []\n",
    "    for i in range(2, n+1):\n",
    "        for j in range(2, i):\n",
    "            if i%j == 0:\n",
    "                break\n",
    "        else:\n",
    "            prime_num.append(i)\n",
    "    return prime_num\n",
    "\n",
    "def isPrime(n = int(x)):\n",
    "    if n == 1:\n",
    "        raise ValueError(\"1 is not a prime number.\")\n",
    "    \n",
    "    if n < 0:\n",
    "        raise ValueError(\"Input number should be larger than 1.\")\n",
    "    \n",
    "    for i in range(2, round(pow(n, 0.5))+1):\n",
    "        if n%i == 0:\n",
    "            mes = f\"{n} is not a Prime number.\"\n",
    "            break\n",
    "    else:\n",
    "        mes = f\"{n} is a Prime number.\"\n",
    "    return mes\n",
    "    \n",
    "\n",
    "f = f\"{isPrime()}; the prime numbers smaller than {x} are {prime()}\"\n",
    "print(f) # 2, 3, 5, 7, 11, 13, 17, 19"
   ]
  },
  {
   "cell_type": "code",
   "execution_count": null,
   "metadata": {},
   "outputs": [],
   "source": []
  },
  {
   "cell_type": "markdown",
   "metadata": {},
   "source": [
    "### Task #09 作業 03【實作題】計算總和的函數\n",
    "Define a summation function with unlimited length of numbers."
   ]
  },
  {
   "cell_type": "code",
   "execution_count": 100,
   "metadata": {},
   "outputs": [
    {
     "name": "stdout",
     "output_type": "stream",
     "text": [
      "6\n",
      "15\n"
     ]
    }
   ],
   "source": [
    "def f(*num):\n",
    "    sum_= 0 \n",
    "    for n in num:\n",
    "        sum_ += n\n",
    "    return sum_\n",
    "\n",
    "print(f(1, 2, 3)) # 6\n",
    "print(f(1, 2, 3, 4, 5)) # 15"
   ]
  },
  {
   "cell_type": "code",
   "execution_count": 99,
   "metadata": {},
   "outputs": [
    {
     "name": "stdout",
     "output_type": "stream",
     "text": [
      "6\n",
      "15\n"
     ]
    }
   ],
   "source": [
    "from functools import reduce\n",
    "\n",
    "def f(*num):\n",
    "    return reduce(lambda x, y: x+y, num)\n",
    "\n",
    "print(f(1, 2, 3)) # 6\n",
    "print(f(1, 2, 3, 4, 5)) # 15"
   ]
  },
  {
   "cell_type": "code",
   "execution_count": null,
   "metadata": {},
   "outputs": [],
   "source": []
  }
 ],
 "metadata": {
  "kernelspec": {
   "display_name": "Python 3 (ipykernel)",
   "language": "python",
   "name": "python3"
  },
  "language_info": {
   "codemirror_mode": {
    "name": "ipython",
    "version": 3
   },
   "file_extension": ".py",
   "mimetype": "text/x-python",
   "name": "python",
   "nbconvert_exporter": "python",
   "pygments_lexer": "ipython3",
   "version": "3.8.0"
  },
  "toc": {
   "base_numbering": 1,
   "nav_menu": {},
   "number_sections": true,
   "sideBar": true,
   "skip_h1_title": false,
   "title_cell": "Table of Contents",
   "title_sidebar": "Contents",
   "toc_cell": false,
   "toc_position": {},
   "toc_section_display": true,
   "toc_window_display": false
  }
 },
 "nbformat": 4,
 "nbformat_minor": 4
}
